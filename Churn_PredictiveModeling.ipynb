{
 "cells": [
  {
   "cell_type": "markdown",
   "metadata": {},
   "source": [
    "## Predicting Customer Churn in Telco Industry: Part II\n",
    "### Utkarsh Misra\n",
    "### July, 2021\n",
    "### Predictive Modeling Using Random Forest\n",
    "#### This notebook will contain all parts of the predictive modeling process including: feature creation, feature selection, model performance, accuracy testing and hyperparameter tuning. "
   ]
  },
  {
   "cell_type": "code",
   "execution_count": 140,
   "metadata": {},
   "outputs": [],
   "source": [
    "import pandas as pd\n",
    "import seaborn as sns\n",
    "import numpy as np\n",
    "import matplotlib.pyplot as plt\n",
    "from sklearn.ensemble import RandomForestClassifier\n",
    "from sklearn.preprocessing import StandardScaler\n",
    "from sklearn.model_selection import train_test_split\n",
    "from sklearn.model_selection import GridSearchCV\n",
    "from sklearn.metrics import accuracy_score\n",
    "from sklearn.metrics import roc_auc_score\n",
    "from sklearn.metrics import roc_curve"
   ]
  },
  {
   "cell_type": "markdown",
   "metadata": {},
   "source": [
    "### Ingesting Data"
   ]
  },
  {
   "cell_type": "code",
   "execution_count": 141,
   "metadata": {},
   "outputs": [],
   "source": [
    "data = pd.read_csv('/Users/utkarshmisra/Desktop/Notes/Churn_Dataset.csv')"
   ]
  },
  {
   "cell_type": "markdown",
   "metadata": {},
   "source": [
    "### Recap From Part I\n",
    "* Features related to call minutes and call charge are 100% correlated and therefore out of the 6 available, 3 will be selected for any modeling purposes\n",
    "* Three features: day calls, customer service calls, international plan, and voice mail plan are potentially powerful predictors. \n",
    "* Two features were created, one of which showed some promise. This is a combination of the area and state henceforth dubbed \"area-state\" which was shown to show more variation when it came to differentiating the churners from non-churners\n",
    "* Note that the feature \"phone number\" will be excluded from all because it is unique to each customer and also because what it may represent (geographical information) is already represented by other feature(s)."
   ]
  },
  {
   "cell_type": "code",
   "execution_count": 142,
   "metadata": {},
   "outputs": [
    {
     "data": {
      "text/plain": [
       "state                      object\n",
       "account length              int64\n",
       "area code                   int64\n",
       "phone number               object\n",
       "international plan         object\n",
       "voice mail plan            object\n",
       "number vmail messages       int64\n",
       "total day minutes         float64\n",
       "total day calls             int64\n",
       "total day charge          float64\n",
       "total eve minutes         float64\n",
       "total eve calls             int64\n",
       "total eve charge          float64\n",
       "total night minutes       float64\n",
       "total night calls           int64\n",
       "total night charge        float64\n",
       "total intl minutes        float64\n",
       "total intl calls            int64\n",
       "total intl charge         float64\n",
       "customer service calls      int64\n",
       "churn                        bool\n",
       "dtype: object"
      ]
     },
     "execution_count": 142,
     "metadata": {},
     "output_type": "execute_result"
    }
   ],
   "source": [
    "data.dtypes"
   ]
  },
  {
   "cell_type": "markdown",
   "metadata": {},
   "source": [
    "#### Type Changes"
   ]
  },
  {
   "cell_type": "code",
   "execution_count": 143,
   "metadata": {},
   "outputs": [],
   "source": [
    "# Changing into categorical\n",
    "data['area code'] = data['area code'].astype(object)"
   ]
  },
  {
   "cell_type": "markdown",
   "metadata": {},
   "source": [
    "#### New Feature Creation"
   ]
  },
  {
   "cell_type": "code",
   "execution_count": 144,
   "metadata": {},
   "outputs": [],
   "source": [
    "# Based on explroation \n",
    "data[\"area_state\"] = data[\"area code\"].astype(str) + '-' + data[\"state\"]\n"
   ]
  },
  {
   "cell_type": "markdown",
   "metadata": {},
   "source": [
    "### Feature Selection \n",
    "#### Here, I am going forward with two models\n",
    "1. All the data except with new feature\n",
    "2. Only selected columns (based on data exploration) which will then be further trimmed based on predictive power"
   ]
  },
  {
   "cell_type": "markdown",
   "metadata": {},
   "source": [
    "#### Isolating Variables"
   ]
  },
  {
   "cell_type": "code",
   "execution_count": 145,
   "metadata": {},
   "outputs": [],
   "source": [
    "# Isolating dependent variables\n",
    "target = data.pop(\"churn\")"
   ]
  },
  {
   "cell_type": "code",
   "execution_count": 298,
   "metadata": {},
   "outputs": [
    {
     "name": "stdout",
     "output_type": "stream",
     "text": [
      "0 state\n",
      "1 account length\n",
      "2 area code\n",
      "3 phone number\n",
      "4 international plan\n",
      "5 voice mail plan\n",
      "6 number vmail messages\n",
      "7 total day minutes\n",
      "8 total day calls\n",
      "9 total day charge\n",
      "10 total eve minutes\n",
      "11 total eve calls\n",
      "12 total eve charge\n",
      "13 total night minutes\n",
      "14 total night calls\n",
      "15 total night charge\n",
      "16 total intl minutes\n",
      "17 total intl calls\n",
      "18 total intl charge\n",
      "19 customer service calls\n",
      "20 area_state\n"
     ]
    }
   ],
   "source": [
    "# List of columns for reference for easy subsetting\n",
    "n=0\n",
    "for col in data.columns:\n",
    "    print(n,col)\n",
    "    n += 1"
   ]
  },
  {
   "cell_type": "code",
   "execution_count": 297,
   "metadata": {},
   "outputs": [],
   "source": [
    "# Isolating two sets of features for two models \n",
    "mod1 = data.iloc[:,[1,4,5,6,7,8,10,11,13,14,16,17,19,20]]\n",
    "mod2 = data.iloc[:,[1,4,7,8,10,11,13,14,16,17,19]] # Only strongest features"
   ]
  },
  {
   "cell_type": "markdown",
   "metadata": {},
   "source": [
    "#### One-Hot Encoding Using Pandas Dummies"
   ]
  },
  {
   "cell_type": "code",
   "execution_count": 286,
   "metadata": {},
   "outputs": [],
   "source": [
    "# Converting into arrays and checks\n",
    "mod1 = pd.get_dummies(mod1)\n",
    "mod2 = pd.get_dummies(mod2)\n",
    "target = np.array(target)\n",
    "feat = list(mod1)\n",
    "feat2 = list(mod2)"
   ]
  },
  {
   "cell_type": "markdown",
   "metadata": {},
   "source": [
    "### Random Forest Classifier: Setting Up"
   ]
  },
  {
   "cell_type": "markdown",
   "metadata": {},
   "source": [
    "\n"
   ]
  },
  {
   "cell_type": "code",
   "execution_count": 285,
   "metadata": {},
   "outputs": [],
   "source": [
    "# Initializing and storing Random Forest Classifier\n",
    "rfc = RandomForestClassifier()\n",
    "rfc2 = RandomForestClassifier()"
   ]
  },
  {
   "cell_type": "markdown",
   "metadata": {},
   "source": [
    "### Model-I: All data"
   ]
  },
  {
   "cell_type": "code",
   "execution_count": 287,
   "metadata": {},
   "outputs": [],
   "source": [
    "#Separating into train and test\n",
    "from sklearn.model_selection import train_test_split\n",
    "x_train1, x_test1, y_train1, y_test1 = train_test_split(mod1, target, test_size=0.30, random_state=9999)"
   ]
  },
  {
   "cell_type": "code",
   "execution_count": 288,
   "metadata": {},
   "outputs": [
    {
     "data": {
      "text/plain": [
       "RandomForestClassifier()"
      ]
     },
     "execution_count": 288,
     "metadata": {},
     "output_type": "execute_result"
    }
   ],
   "source": [
    "## Training the model ##\n",
    "rfc.fit(x_train1, y_train1)"
   ]
  },
  {
   "cell_type": "markdown",
   "metadata": {},
   "source": [
    "#### Training Set Error"
   ]
  },
  {
   "cell_type": "code",
   "execution_count": 289,
   "metadata": {},
   "outputs": [
    {
     "name": "stdout",
     "output_type": "stream",
     "text": [
      "Error on training set is 0.0 %\n"
     ]
    }
   ],
   "source": [
    "# Training set error\n",
    "train_error1 = (1 - rfc.score(x_train1, y_train1))*100\n",
    "print(\"Error on training set is {} %\".format(round(train_error1,3)))"
   ]
  },
  {
   "cell_type": "markdown",
   "metadata": {},
   "source": [
    "#### Test Set Error"
   ]
  },
  {
   "cell_type": "code",
   "execution_count": 290,
   "metadata": {},
   "outputs": [],
   "source": [
    "# Making predictions on test set #\n",
    "y_pred1 = rfc.predict(x_test1)"
   ]
  },
  {
   "cell_type": "markdown",
   "metadata": {},
   "source": [
    "#### Accuracy"
   ]
  },
  {
   "cell_type": "code",
   "execution_count": 292,
   "metadata": {},
   "outputs": [
    {
     "name": "stdout",
     "output_type": "stream",
     "text": [
      "Accuracy on test set is 94.2 %\n"
     ]
    }
   ],
   "source": [
    "accuracy1 = (accuracy_score(y_test1, y_pred1))*100\n",
    "\n",
    "# Test set error\n",
    "print(\"Accuracy on test set is {} %\".format(round(accuracy1,3)))"
   ]
  },
  {
   "cell_type": "markdown",
   "metadata": {},
   "source": [
    "#### Feature Importance"
   ]
  },
  {
   "cell_type": "code",
   "execution_count": 293,
   "metadata": {},
   "outputs": [
    {
     "data": {
      "image/png": "[encoded data removed]",
      "text/plain": [
       "<Figure size 432x288 with 1 Axes>"
      ]
     },
     "metadata": {
      "needs_background": "light"
     },
     "output_type": "display_data"
    },
    {
     "data": {
      "text/html": [
       "<div>\n",
       "<style scoped>\n",
       "    .dataframe tbody tr th:only-of-type {\n",
       "        vertical-align: middle;\n",
       "    }\n",
       "\n",
       "    .dataframe tbody tr th {\n",
       "        vertical-align: top;\n",
       "    }\n",
       "\n",
       "    .dataframe thead th {\n",
       "        text-align: right;\n",
       "    }\n",
       "</style>\n",
       "<table border=\"1\" class=\"dataframe\">\n",
       "  <thead>\n",
       "    <tr style=\"text-align: right;\">\n",
       "      <th></th>\n",
       "      <th>FeatureName</th>\n",
       "      <th>Importance</th>\n",
       "    </tr>\n",
       "  </thead>\n",
       "  <tbody>\n",
       "    <tr>\n",
       "      <th>2</th>\n",
       "      <td>total day minutes</td>\n",
       "      <td>0.188057</td>\n",
       "    </tr>\n",
       "    <tr>\n",
       "      <th>10</th>\n",
       "      <td>customer service calls</td>\n",
       "      <td>0.099570</td>\n",
       "    </tr>\n",
       "    <tr>\n",
       "      <th>4</th>\n",
       "      <td>total eve minutes</td>\n",
       "      <td>0.075797</td>\n",
       "    </tr>\n",
       "    <tr>\n",
       "      <th>8</th>\n",
       "      <td>total intl minutes</td>\n",
       "      <td>0.059676</td>\n",
       "    </tr>\n",
       "    <tr>\n",
       "      <th>6</th>\n",
       "      <td>total night minutes</td>\n",
       "      <td>0.051321</td>\n",
       "    </tr>\n",
       "    <tr>\n",
       "      <th>9</th>\n",
       "      <td>total intl calls</td>\n",
       "      <td>0.050267</td>\n",
       "    </tr>\n",
       "    <tr>\n",
       "      <th>0</th>\n",
       "      <td>account length</td>\n",
       "      <td>0.047370</td>\n",
       "    </tr>\n",
       "    <tr>\n",
       "      <th>3</th>\n",
       "      <td>total day calls</td>\n",
       "      <td>0.045932</td>\n",
       "    </tr>\n",
       "    <tr>\n",
       "      <th>5</th>\n",
       "      <td>total eve calls</td>\n",
       "      <td>0.045885</td>\n",
       "    </tr>\n",
       "    <tr>\n",
       "      <th>7</th>\n",
       "      <td>total night calls</td>\n",
       "      <td>0.042996</td>\n",
       "    </tr>\n",
       "    <tr>\n",
       "      <th>12</th>\n",
       "      <td>international plan_yes</td>\n",
       "      <td>0.034943</td>\n",
       "    </tr>\n",
       "    <tr>\n",
       "      <th>11</th>\n",
       "      <td>international plan_no</td>\n",
       "      <td>0.033548</td>\n",
       "    </tr>\n",
       "    <tr>\n",
       "      <th>1</th>\n",
       "      <td>number vmail messages</td>\n",
       "      <td>0.018570</td>\n",
       "    </tr>\n",
       "    <tr>\n",
       "      <th>14</th>\n",
       "      <td>voice mail plan_yes</td>\n",
       "      <td>0.009078</td>\n",
       "    </tr>\n",
       "    <tr>\n",
       "      <th>13</th>\n",
       "      <td>voice mail plan_no</td>\n",
       "      <td>0.008978</td>\n",
       "    </tr>\n",
       "    <tr>\n",
       "      <th>109</th>\n",
       "      <td>area_state_415-TX</td>\n",
       "      <td>0.004740</td>\n",
       "    </tr>\n",
       "    <tr>\n",
       "      <th>140</th>\n",
       "      <td>area_state_510-MN</td>\n",
       "      <td>0.004225</td>\n",
       "    </tr>\n",
       "    <tr>\n",
       "      <th>72</th>\n",
       "      <td>area_state_415-CT</td>\n",
       "      <td>0.004149</td>\n",
       "    </tr>\n",
       "    <tr>\n",
       "      <th>148</th>\n",
       "      <td>area_state_510-NJ</td>\n",
       "      <td>0.003890</td>\n",
       "    </tr>\n",
       "    <tr>\n",
       "      <th>35</th>\n",
       "      <td>area_state_408-MD</td>\n",
       "      <td>0.003721</td>\n",
       "    </tr>\n",
       "  </tbody>\n",
       "</table>\n",
       "</div>"
      ],
      "text/plain": [
       "                FeatureName  Importance\n",
       "2         total day minutes    0.188057\n",
       "10   customer service calls    0.099570\n",
       "4         total eve minutes    0.075797\n",
       "8        total intl minutes    0.059676\n",
       "6       total night minutes    0.051321\n",
       "9          total intl calls    0.050267\n",
       "0            account length    0.047370\n",
       "3           total day calls    0.045932\n",
       "5           total eve calls    0.045885\n",
       "7         total night calls    0.042996\n",
       "12   international plan_yes    0.034943\n",
       "11    international plan_no    0.033548\n",
       "1     number vmail messages    0.018570\n",
       "14      voice mail plan_yes    0.009078\n",
       "13       voice mail plan_no    0.008978\n",
       "109       area_state_415-TX    0.004740\n",
       "140       area_state_510-MN    0.004225\n",
       "72        area_state_415-CT    0.004149\n",
       "148       area_state_510-NJ    0.003890\n",
       "35        area_state_408-MD    0.003721"
      ]
     },
     "execution_count": 293,
     "metadata": {},
     "output_type": "execute_result"
    }
   ],
   "source": [
    "\n",
    "feature_importance1 = rfc.feature_importances_\n",
    "fig1, ax1 = plt.subplots()\n",
    "rects = ax1.barh(feat, feature_importance1, 0.5, color='b')\n",
    "\n",
    "#adding labels\n",
    "ax1.set_ylabel('Feature')\n",
    "ax1.set_xlabel('Importance')\n",
    "\n",
    "plt.show()\n",
    "\n",
    "feat_table1 = pd.DataFrame(\n",
    "    {\"FeatureName\": feat,\n",
    "    \"Importance\":feature_importance1}\n",
    ")\n",
    "\n",
    "#feat_table_clean = feat_table.style.format({\"Importance\": ' {:2f}%'})\n",
    "feat_table1.sort_values(\"Importance\",ascending=False).head(20)"
   ]
  },
  {
   "cell_type": "markdown",
   "metadata": {},
   "source": [
    "#### AUC and ROC Score: Model-I"
   ]
  },
  {
   "cell_type": "markdown",
   "metadata": {},
   "source": [
    "#### I will be using the following parameters for testing the performance of the model\n",
    "- Accuracy or (True Positive+True Negative)/(TP+TN+FP+FN)\n",
    "- Area Under the Curve (AUC)\n",
    "- False Negatives: This is because a false negative is more harmful in this case than false positives if the model is used for things such as marketing email blasts or targeted campaigns"
   ]
  },
  {
   "cell_type": "code",
   "execution_count": 294,
   "metadata": {},
   "outputs": [
    {
     "name": "stdout",
     "output_type": "stream",
     "text": [
      "AUC: 0.900\n"
     ]
    }
   ],
   "source": [
    "#ROC Curve and AUC of MODEL\n",
    "probs1 = rfc.predict_proba(x_test1)\n",
    "probs1 = probs1[:, 1]\n",
    "auc1 = roc_auc_score(y_test1, probs1)\n",
    "print('AUC: %.3f' % auc1)"
   ]
  },
  {
   "cell_type": "code",
   "execution_count": 295,
   "metadata": {},
   "outputs": [
    {
     "data": {
      "image/png": "[encoded data removed]",
      "text/plain": [
       "<Figure size 720x720 with 1 Axes>"
      ]
     },
     "metadata": {
      "needs_background": "light"
     },
     "output_type": "display_data"
    }
   ],
   "source": [
    "# calculate roc curve\n",
    "fpr1, tpr1, thresholds1 = roc_curve(y_test1, probs1)\n",
    "plt.figure(figsize=(10, 10))\n",
    "# plot no skill\n",
    "plt.plot([0, 1], [0, 1], linestyle='--')\n",
    "# plot the roc curve for the model\n",
    "plt.plot(fpr1, tpr1, marker='.')\n",
    "plt.xlabel('False Positive Rate', fontsize=18)\n",
    "plt.ylabel('True Positive Rate', fontsize=18)\n",
    "plt.title('ROC Curve')\n",
    "# show the plot\n",
    "plt.show()"
   ]
  },
  {
   "cell_type": "markdown",
   "metadata": {},
   "source": [
    "**AUC SCORE OF 90.0**"
   ]
  },
  {
   "cell_type": "markdown",
   "metadata": {},
   "source": [
    "#### Confusion Matrix To See False Negatives"
   ]
  },
  {
   "cell_type": "code",
   "execution_count": 296,
   "metadata": {},
   "outputs": [
    {
     "data": {
      "text/plain": [
       "<sklearn.metrics._plot.confusion_matrix.ConfusionMatrixDisplay at 0x7f871a271a90>"
      ]
     },
     "execution_count": 296,
     "metadata": {},
     "output_type": "execute_result"
    },
    {
     "data": {
      "image/png": "[encoded data removed]",
      "text/plain": [
       "<Figure size 432x288 with 2 Axes>"
      ]
     },
     "metadata": {
      "needs_background": "light"
     },
     "output_type": "display_data"
    }
   ],
   "source": [
    "from sklearn.metrics import confusion_matrix, ConfusionMatrixDisplay\n",
    "cm = confusion_matrix(y_test1, y_pred1, labels=rfc.classes_)\n",
    "disp = ConfusionMatrixDisplay(confusion_matrix=cm, display_labels=rfc.classes_)\n",
    "disp.plot() "
   ]
  },
  {
   "cell_type": "markdown",
   "metadata": {},
   "source": [
    "Only **4** false negatives"
   ]
  },
  {
   "cell_type": "markdown",
   "metadata": {},
   "source": [
    "### Model-II: Only Strongest Features\n"
   ]
  },
  {
   "cell_type": "code",
   "execution_count": 279,
   "metadata": {},
   "outputs": [],
   "source": [
    "# Separating into test and train\n",
    "from sklearn.model_selection import train_test_split\n",
    "x_train2, x_test2, y_train2, y_test2 = train_test_split(mod2, target, test_size=0.30, random_state=9999)"
   ]
  },
  {
   "cell_type": "code",
   "execution_count": 299,
   "metadata": {},
   "outputs": [
    {
     "data": {
      "text/plain": [
       "RandomForestClassifier()"
      ]
     },
     "execution_count": 299,
     "metadata": {},
     "output_type": "execute_result"
    }
   ],
   "source": [
    "## Training the model ##\n",
    "rfc2.fit(x_train2, y_train2)"
   ]
  },
  {
   "cell_type": "code",
   "execution_count": 281,
   "metadata": {},
   "outputs": [
    {
     "name": "stdout",
     "output_type": "stream",
     "text": [
      "Error on training set is 0.0 %\n"
     ]
    }
   ],
   "source": [
    "# Training set error\n",
    "train_error2 = (1 - rfc2.score(x_train2, y_train2))*100\n",
    "print(\"Error on training set is {} %\".format(round(train_error2,3)))"
   ]
  },
  {
   "cell_type": "code",
   "execution_count": 282,
   "metadata": {},
   "outputs": [],
   "source": [
    "# Making predictions on test set #\n",
    "y_pred2 = rfc2.predict(x_test2)"
   ]
  },
  {
   "cell_type": "markdown",
   "metadata": {},
   "source": [
    "#### Accuracy"
   ]
  },
  {
   "cell_type": "code",
   "execution_count": 283,
   "metadata": {},
   "outputs": [
    {
     "name": "stdout",
     "output_type": "stream",
     "text": [
      "Accuracy on test set is 94.2 %\n"
     ]
    }
   ],
   "source": [
    "accuracy2 = (accuracy_score(y_test2, y_pred2))*100\n",
    "\n",
    "# Test set error\n",
    "print(\"Accuracy on test set is {} %\".format(round(accuracy2,3)))"
   ]
  },
  {
   "cell_type": "markdown",
   "metadata": {},
   "source": [
    "#### Feature Importance"
   ]
  },
  {
   "cell_type": "code",
   "execution_count": 276,
   "metadata": {},
   "outputs": [
    {
     "data": {
      "image/png": "[encoded data removed]",
      "text/plain": [
       "<Figure size 432x288 with 1 Axes>"
      ]
     },
     "metadata": {
      "needs_background": "light"
     },
     "output_type": "display_data"
    },
    {
     "data": {
      "text/html": [
       "<div>\n",
       "<style scoped>\n",
       "    .dataframe tbody tr th:only-of-type {\n",
       "        vertical-align: middle;\n",
       "    }\n",
       "\n",
       "    .dataframe tbody tr th {\n",
       "        vertical-align: top;\n",
       "    }\n",
       "\n",
       "    .dataframe thead th {\n",
       "        text-align: right;\n",
       "    }\n",
       "</style>\n",
       "<table border=\"1\" class=\"dataframe\">\n",
       "  <thead>\n",
       "    <tr style=\"text-align: right;\">\n",
       "      <th></th>\n",
       "      <th>FeatureName</th>\n",
       "      <th>Importance</th>\n",
       "    </tr>\n",
       "  </thead>\n",
       "  <tbody>\n",
       "    <tr>\n",
       "      <th>1</th>\n",
       "      <td>total day minutes</td>\n",
       "      <td>0.226860</td>\n",
       "    </tr>\n",
       "    <tr>\n",
       "      <th>9</th>\n",
       "      <td>customer service calls</td>\n",
       "      <td>0.116612</td>\n",
       "    </tr>\n",
       "    <tr>\n",
       "      <th>3</th>\n",
       "      <td>total eve minutes</td>\n",
       "      <td>0.104023</td>\n",
       "    </tr>\n",
       "    <tr>\n",
       "      <th>7</th>\n",
       "      <td>total intl minutes</td>\n",
       "      <td>0.085978</td>\n",
       "    </tr>\n",
       "    <tr>\n",
       "      <th>5</th>\n",
       "      <td>total night minutes</td>\n",
       "      <td>0.069885</td>\n",
       "    </tr>\n",
       "    <tr>\n",
       "      <th>8</th>\n",
       "      <td>total intl calls</td>\n",
       "      <td>0.067025</td>\n",
       "    </tr>\n",
       "    <tr>\n",
       "      <th>0</th>\n",
       "      <td>account length</td>\n",
       "      <td>0.059459</td>\n",
       "    </tr>\n",
       "    <tr>\n",
       "      <th>2</th>\n",
       "      <td>total day calls</td>\n",
       "      <td>0.058191</td>\n",
       "    </tr>\n",
       "    <tr>\n",
       "      <th>6</th>\n",
       "      <td>total night calls</td>\n",
       "      <td>0.054312</td>\n",
       "    </tr>\n",
       "    <tr>\n",
       "      <th>4</th>\n",
       "      <td>total eve calls</td>\n",
       "      <td>0.052925</td>\n",
       "    </tr>\n",
       "    <tr>\n",
       "      <th>10</th>\n",
       "      <td>international plan_no</td>\n",
       "      <td>0.040389</td>\n",
       "    </tr>\n",
       "    <tr>\n",
       "      <th>11</th>\n",
       "      <td>international plan_yes</td>\n",
       "      <td>0.040130</td>\n",
       "    </tr>\n",
       "    <tr>\n",
       "      <th>13</th>\n",
       "      <td>area code_415</td>\n",
       "      <td>0.009361</td>\n",
       "    </tr>\n",
       "    <tr>\n",
       "      <th>14</th>\n",
       "      <td>area code_510</td>\n",
       "      <td>0.008224</td>\n",
       "    </tr>\n",
       "    <tr>\n",
       "      <th>12</th>\n",
       "      <td>area code_408</td>\n",
       "      <td>0.006627</td>\n",
       "    </tr>\n",
       "  </tbody>\n",
       "</table>\n",
       "</div>"
      ],
      "text/plain": [
       "               FeatureName  Importance\n",
       "1        total day minutes    0.226860\n",
       "9   customer service calls    0.116612\n",
       "3        total eve minutes    0.104023\n",
       "7       total intl minutes    0.085978\n",
       "5      total night minutes    0.069885\n",
       "8         total intl calls    0.067025\n",
       "0           account length    0.059459\n",
       "2          total day calls    0.058191\n",
       "6        total night calls    0.054312\n",
       "4          total eve calls    0.052925\n",
       "10   international plan_no    0.040389\n",
       "11  international plan_yes    0.040130\n",
       "13           area code_415    0.009361\n",
       "14           area code_510    0.008224\n",
       "12           area code_408    0.006627"
      ]
     },
     "execution_count": 276,
     "metadata": {},
     "output_type": "execute_result"
    }
   ],
   "source": [
    "feature_importance2 = rfc2.feature_importances_\n",
    "\n",
    "fig, ax = plt.subplots()\n",
    "rects = ax.barh(feat2, feature_importance2, 0.5, color='b')\n",
    "\n",
    "#adding labels\n",
    "ax.set_ylabel('Feature')\n",
    "ax.set_xlabel('Importance')\n",
    "\n",
    "plt.show()\n",
    "\n",
    "feat_table2 = pd.DataFrame(\n",
    "    {\"FeatureName\": feat2,\n",
    "    \"Importance\":feature_importance2}\n",
    ")\n",
    "\n",
    "#feat_table_clean = feat_table.style.format({\"Importance\": ' {:2f}%'})\n",
    "feat_table2.sort_values(\"Importance\",ascending=False).head(15)"
   ]
  },
  {
   "cell_type": "markdown",
   "metadata": {},
   "source": [
    "#### AUC and ROC Score: Model-II"
   ]
  },
  {
   "cell_type": "code",
   "execution_count": 256,
   "metadata": {},
   "outputs": [
    {
     "name": "stdout",
     "output_type": "stream",
     "text": [
      "AUC: 0.893\n"
     ]
    }
   ],
   "source": [
    "#ROC Curve and AUC of MODEL\n",
    "probs2 = rfc2.predict_proba(x_test2)\n",
    "probs2 = probs2[:, 1]\n",
    "auc2 = roc_auc_score(y_test2, probs2)\n",
    "print('AUC: %.3f' % auc2)"
   ]
  },
  {
   "cell_type": "code",
   "execution_count": 257,
   "metadata": {},
   "outputs": [
    {
     "data": {
      "image/png": "[encoded data removed]",
      "text/plain": [
       "<Figure size 720x720 with 1 Axes>"
      ]
     },
     "metadata": {
      "needs_background": "light"
     },
     "output_type": "display_data"
    }
   ],
   "source": [
    "# calculate roc curve\n",
    "fpr2, tpr2, thresholds2 = roc_curve(y_test2, probs2)\n",
    "plt.figure(figsize=(10, 10))\n",
    "# plot no skill\n",
    "plt.plot([0, 1], [0, 1], linestyle='--')\n",
    "# plot the roc curve for the model\n",
    "plt.plot(fpr2, tpr2, marker='.')\n",
    "plt.xlabel('False Positive Rate', fontsize=18)\n",
    "plt.ylabel('True Positive Rate', fontsize=18)\n",
    "plt.title('ROC Curve for the Model-2')\n",
    "# show the plot\n",
    "plt.show()"
   ]
  },
  {
   "cell_type": "markdown",
   "metadata": {},
   "source": [
    "AUC Score of **89.3**"
   ]
  },
  {
   "cell_type": "code",
   "execution_count": 258,
   "metadata": {},
   "outputs": [
    {
     "data": {
      "text/plain": [
       "<sklearn.metrics._plot.confusion_matrix.ConfusionMatrixDisplay at 0x7f8700d90040>"
      ]
     },
     "execution_count": 258,
     "metadata": {},
     "output_type": "execute_result"
    },
    {
     "data": {
      "image/png": "[encoded data removed]",
      "text/plain": [
       "<Figure size 432x288 with 2 Axes>"
      ]
     },
     "metadata": {
      "needs_background": "light"
     },
     "output_type": "display_data"
    }
   ],
   "source": [
    "### Confusion Matrix\n",
    "from sklearn.metrics import confusion_matrix, ConfusionMatrixDisplay\n",
    "cm = confusion_matrix(y_test2, y_pred2, labels=rfc2.classes_)\n",
    "disp = ConfusionMatrixDisplay(confusion_matrix=cm, display_labels=rfc2.classes_)\n",
    "disp.plot() "
   ]
  },
  {
   "cell_type": "markdown",
   "metadata": {},
   "source": [
    "Only **4** false negatives"
   ]
  },
  {
   "cell_type": "markdown",
   "metadata": {},
   "source": [
    "### Conclusion\n",
    "1. Go with model-II because even though the accuracy for the first model is slightly higher on the test set (90 > 89.7), it still predicts the same number of false negatives (4). The accuracy is almost the same and any subtle difference can be attributed to random sampling\n",
    "2. Most importantly, model-2 is much easier to **interpret, collect data for, deploy and requires much less processing power**\n",
    "3. The voice mail variables and the geographic variables were ultimately not important predictors in their current form. However, it is definitely to engineer these to get more predictive power out of them\n",
    "4. Top 3 most important predictors:day minutes, customer service calls, and evening minutes. Two out of 3, we accurately isolated as potentially powerful!"
   ]
  },
  {
   "cell_type": "markdown",
   "metadata": {},
   "source": [
    "### Hyperparameter Tuning"
   ]
  },
  {
   "cell_type": "markdown",
   "metadata": {},
   "source": [
    "##### Based on research, I am narrowing down the hyperparameter to four:\n",
    "1. N_estimators: number of trees in forest\n",
    "2. Max features: Max number of features considered for splitting a node\n",
    "3. Max depth: Max number of levels in each decision tree\n",
    "4. Bootstrap: Whether to use bootstrapping method or not"
   ]
  },
  {
   "cell_type": "markdown",
   "metadata": {},
   "source": [
    "In order to zero down on the best ranges for the parameters, I will be using grid search and start with a wide range of values and then narrow down based on the best params. The process of zeroing down is not shown here, but the final grid used is left "
   ]
  },
  {
   "cell_type": "code",
   "execution_count": 300,
   "metadata": {},
   "outputs": [],
   "source": [
    "# Create the parameter grid based on the individual research for best ranges\n",
    "param_grid = {\n",
    "    'bootstrap': [True],\n",
    "    'max_depth': [5,10,15,20,25],\n",
    "    'max_features': [2, 3],\n",
    "    'n_estimators': [50,100,200,500,1000]\n",
    "}\n",
    "\n",
    "\n",
    "# Instantiate the grid search model\n",
    "grid_search = GridSearchCV(estimator = rfc2, param_grid = param_grid, \n",
    "                          cv = 3, n_jobs = -1, verbose = 2)"
   ]
  },
  {
   "cell_type": "code",
   "execution_count": 301,
   "metadata": {},
   "outputs": [
    {
     "name": "stdout",
     "output_type": "stream",
     "text": [
      "Fitting 3 folds for each of 50 candidates, totalling 150 fits\n"
     ]
    },
    {
     "data": {
      "text/plain": [
       "{'bootstrap': True, 'max_depth': 15, 'max_features': 3, 'n_estimators': 200}"
      ]
     },
     "execution_count": 301,
     "metadata": {},
     "output_type": "execute_result"
    }
   ],
   "source": [
    " #Fit the grid search to the data\n",
    "grid_search.fit(x_train2, y_train2)\n",
    "grid_search.best_params_"
   ]
  },
  {
   "cell_type": "markdown",
   "metadata": {},
   "source": [
    "### Fitting a Random Forest With the Tuned Parameters"
   ]
  },
  {
   "cell_type": "code",
   "execution_count": 302,
   "metadata": {},
   "outputs": [],
   "source": [
    "rfc_2f = RandomForestClassifier(max_depth = 15, max_features = 3, n_estimators =200, bootstrap=True)"
   ]
  },
  {
   "cell_type": "code",
   "execution_count": 303,
   "metadata": {},
   "outputs": [
    {
     "data": {
      "text/plain": [
       "RandomForestClassifier(max_depth=15, max_features=3, n_estimators=200)"
      ]
     },
     "execution_count": 303,
     "metadata": {},
     "output_type": "execute_result"
    }
   ],
   "source": [
    "rfc_2f.fit(x_train2, y_train2)"
   ]
  },
  {
   "cell_type": "markdown",
   "metadata": {},
   "source": [
    "#### Accuracy"
   ]
  },
  {
   "cell_type": "code",
   "execution_count": 305,
   "metadata": {},
   "outputs": [],
   "source": [
    "# Making predictions on test set #\n",
    "y_pred2f = rfc_2f.predict(x_test2)"
   ]
  },
  {
   "cell_type": "code",
   "execution_count": 306,
   "metadata": {},
   "outputs": [
    {
     "name": "stdout",
     "output_type": "stream",
     "text": [
      "Accuracy on test set is 94.4 %\n"
     ]
    }
   ],
   "source": [
    "accuracy2f = (accuracy_score(y_test2, y_pred2f))*100\n",
    "\n",
    "# Test set error\n",
    "print(\"Accuracy on test set is {} %\".format(round(accuracy2f,3)))"
   ]
  },
  {
   "cell_type": "code",
   "execution_count": 307,
   "metadata": {},
   "outputs": [
    {
     "name": "stdout",
     "output_type": "stream",
     "text": [
      "Improvement of 0.21% from the non-tuned model.\n"
     ]
    }
   ],
   "source": [
    "# Improvement in accuracy ##\n",
    "\n",
    "print('Improvement of {:0.2f}% from the non-tuned model.'.format( 100 * (accuracy2f - accuracy2) / accuracy2))"
   ]
  }
 ],
 "metadata": {
  "kernelspec": {
   "display_name": "Python 3",
   "language": "python",
   "name": "python3"
  },
  "language_info": {
   "codemirror_mode": {
    "name": "ipython",
    "version": 3
   },
   "file_extension": ".py",
   "mimetype": "text/x-python",
   "name": "python",
   "nbconvert_exporter": "python",
   "pygments_lexer": "ipython3",
   "version": "3.8.8"
  }
 },
 "nbformat": 4,
 "nbformat_minor": 4
}
